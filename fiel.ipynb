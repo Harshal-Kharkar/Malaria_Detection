{
 "cells": [
  {
   "cell_type": "code",
   "execution_count": 22,
   "metadata": {},
   "outputs": [],
   "source": [
    "import tensorflow as tf\n",
    "import numpy as np\n",
    "import matplotlib.pyplot as plt\n",
    "from sklearn.metrics import confusion_matrix\n",
    "import tensorflow_datasets as tfds\n",
    "from tensorflow.keras.models import Model\n",
    "from tensorflow.keras.layers import Conv2D, MaxPool2D, Dense, Flatten, InputLayer, BatchNormalization, Input, Dropout,Layer\n",
    "from tensorflow.keras.losses import BinaryCrossentropy\n",
    "from tensorflow.keras.metrics import Accuracy\n",
    "from tensorflow.keras.optimizers import Adam\n",
    "from tensorflow.keras.callbacks import TensorBoard,CSVLogger,EarlyStopping\n",
    "from tensorboard.plugins.hparams import api as hp"
   ]
  },
  {
   "cell_type": "code",
   "execution_count": null,
   "metadata": {},
   "outputs": [],
   "source": []
  },
  {
   "cell_type": "markdown",
   "metadata": {
    "jp-MarkdownHeadingCollapsed": true
   },
   "source": [
    "# Dataset preparation"
   ]
  },
  {
   "cell_type": "code",
   "execution_count": 3,
   "metadata": {},
   "outputs": [
    {
     "name": "stderr",
     "output_type": "stream",
     "text": [
      "2024-04-05 17:56:30.459774: I external/local_xla/xla/stream_executor/cuda/cuda_executor.cc:887] could not open file to read NUMA node: /sys/bus/pci/devices/0000:01:00.0/numa_node\n",
      "Your kernel may have been built without NUMA support.\n",
      "2024-04-05 17:56:30.589930: I external/local_xla/xla/stream_executor/cuda/cuda_executor.cc:887] could not open file to read NUMA node: /sys/bus/pci/devices/0000:01:00.0/numa_node\n",
      "Your kernel may have been built without NUMA support.\n",
      "2024-04-05 17:56:30.589985: I external/local_xla/xla/stream_executor/cuda/cuda_executor.cc:887] could not open file to read NUMA node: /sys/bus/pci/devices/0000:01:00.0/numa_node\n",
      "Your kernel may have been built without NUMA support.\n",
      "2024-04-05 17:56:30.592373: I external/local_xla/xla/stream_executor/cuda/cuda_executor.cc:887] could not open file to read NUMA node: /sys/bus/pci/devices/0000:01:00.0/numa_node\n",
      "Your kernel may have been built without NUMA support.\n",
      "2024-04-05 17:56:30.592416: I external/local_xla/xla/stream_executor/cuda/cuda_executor.cc:887] could not open file to read NUMA node: /sys/bus/pci/devices/0000:01:00.0/numa_node\n",
      "Your kernel may have been built without NUMA support.\n",
      "2024-04-05 17:56:30.592438: I external/local_xla/xla/stream_executor/cuda/cuda_executor.cc:887] could not open file to read NUMA node: /sys/bus/pci/devices/0000:01:00.0/numa_node\n",
      "Your kernel may have been built without NUMA support.\n",
      "2024-04-05 17:56:30.723524: I external/local_xla/xla/stream_executor/cuda/cuda_executor.cc:887] could not open file to read NUMA node: /sys/bus/pci/devices/0000:01:00.0/numa_node\n",
      "Your kernel may have been built without NUMA support.\n",
      "2024-04-05 17:56:30.723940: I external/local_xla/xla/stream_executor/cuda/cuda_executor.cc:887] could not open file to read NUMA node: /sys/bus/pci/devices/0000:01:00.0/numa_node\n",
      "Your kernel may have been built without NUMA support.\n",
      "2024-04-05 17:56:30.723957: I tensorflow/core/common_runtime/gpu/gpu_device.cc:2022] Could not identify NUMA node of platform GPU id 0, defaulting to 0.  Your kernel may not have been built with NUMA support.\n",
      "2024-04-05 17:56:30.724000: I external/local_xla/xla/stream_executor/cuda/cuda_executor.cc:887] could not open file to read NUMA node: /sys/bus/pci/devices/0000:01:00.0/numa_node\n",
      "Your kernel may have been built without NUMA support.\n",
      "2024-04-05 17:56:30.724202: I tensorflow/core/common_runtime/gpu/gpu_device.cc:1929] Created device /job:localhost/replica:0/task:0/device:GPU:0 with 1767 MB memory:  -> device: 0, name: NVIDIA GeForce RTX 3050 Laptop GPU, pci bus id: 0000:01:00.0, compute capability: 8.6\n"
     ]
    }
   ],
   "source": [
    "dataset, dataset_info = tfds.load('malaria', with_info=True,\n",
    "                                  as_supervised=True, \n",
    "                                  shuffle_files = True, \n",
    "                                  split=['train'])"
   ]
  },
  {
   "cell_type": "code",
   "execution_count": 4,
   "metadata": {},
   "outputs": [
    {
     "name": "stdout",
     "output_type": "stream",
     "text": [
      "tfds.core.DatasetInfo(\n",
      "    name='malaria',\n",
      "    full_name='malaria/1.0.0',\n",
      "    description=\"\"\"\n",
      "    The Malaria dataset contains a total of 27,558 cell images with equal instances\n",
      "    of parasitized and uninfected cells from the thin blood smear slide images of\n",
      "    segmented cells.\n",
      "    \"\"\",\n",
      "    homepage='https://lhncbc.nlm.nih.gov/publication/pub9932',\n",
      "    data_dir='/home/harshal_kharkar/tensorflow_datasets/malaria/1.0.0',\n",
      "    file_format=tfrecord,\n",
      "    download_size=337.08 MiB,\n",
      "    dataset_size=317.62 MiB,\n",
      "    features=FeaturesDict({\n",
      "        'image': Image(shape=(None, None, 3), dtype=uint8),\n",
      "        'label': ClassLabel(shape=(), dtype=int64, num_classes=2),\n",
      "    }),\n",
      "    supervised_keys=('image', 'label'),\n",
      "    disable_shuffling=False,\n",
      "    splits={\n",
      "        'train': <SplitInfo num_examples=27558, num_shards=4>,\n",
      "    },\n",
      "    citation=\"\"\"@article{rajaraman2018pre,\n",
      "      title={Pre-trained convolutional neural networks as feature extractors toward\n",
      "      improved malaria parasite detection in thin blood smear images},\n",
      "      author={Rajaraman, Sivaramakrishnan and Antani, Sameer K and Poostchi, Mahdieh\n",
      "      and Silamut, Kamolrat and Hossain, Md A and Maude, Richard J and Jaeger,\n",
      "      Stefan and Thoma, George R},\n",
      "      journal={PeerJ},\n",
      "      volume={6},\n",
      "      pages={e4568},\n",
      "      year={2018},\n",
      "      publisher={PeerJ Inc.}\n",
      "    }\"\"\",\n",
      ")\n"
     ]
    }
   ],
   "source": [
    "print(dataset_info)"
   ]
  },
  {
   "cell_type": "code",
   "execution_count": 5,
   "metadata": {},
   "outputs": [
    {
     "name": "stdout",
     "output_type": "stream",
     "text": [
      "(<tf.Tensor: shape=(103, 103, 3), dtype=uint8, numpy=\n",
      "array([[[0, 0, 0],\n",
      "        [0, 0, 0],\n",
      "        [0, 0, 0],\n",
      "        ...,\n",
      "        [0, 0, 0],\n",
      "        [0, 0, 0],\n",
      "        [0, 0, 0]],\n",
      "\n",
      "       [[0, 0, 0],\n",
      "        [0, 0, 0],\n",
      "        [0, 0, 0],\n",
      "        ...,\n",
      "        [0, 0, 0],\n",
      "        [0, 0, 0],\n",
      "        [0, 0, 0]],\n",
      "\n",
      "       [[0, 0, 0],\n",
      "        [0, 0, 0],\n",
      "        [0, 0, 0],\n",
      "        ...,\n",
      "        [0, 0, 0],\n",
      "        [0, 0, 0],\n",
      "        [0, 0, 0]],\n",
      "\n",
      "       ...,\n",
      "\n",
      "       [[0, 0, 0],\n",
      "        [0, 0, 0],\n",
      "        [0, 0, 0],\n",
      "        ...,\n",
      "        [0, 0, 0],\n",
      "        [0, 0, 0],\n",
      "        [0, 0, 0]],\n",
      "\n",
      "       [[0, 0, 0],\n",
      "        [0, 0, 0],\n",
      "        [0, 0, 0],\n",
      "        ...,\n",
      "        [0, 0, 0],\n",
      "        [0, 0, 0],\n",
      "        [0, 0, 0]],\n",
      "\n",
      "       [[0, 0, 0],\n",
      "        [0, 0, 0],\n",
      "        [0, 0, 0],\n",
      "        ...,\n",
      "        [0, 0, 0],\n",
      "        [0, 0, 0],\n",
      "        [0, 0, 0]]], dtype=uint8)>, <tf.Tensor: shape=(), dtype=int64, numpy=1>)\n"
     ]
    }
   ],
   "source": [
    "for data in dataset[0].take(1):\n",
    "  print(data)"
   ]
  },
  {
   "cell_type": "code",
   "execution_count": null,
   "metadata": {},
   "outputs": [],
   "source": []
  },
  {
   "cell_type": "code",
   "execution_count": 6,
   "metadata": {},
   "outputs": [],
   "source": [
    "def splits(dataset, TRAIN_RATIO, VAL_RATIO, TEST_RATIO):\n",
    "  DATASET_SIZE = len(dataset)\n",
    "\n",
    "  train_dataset = dataset.take(int(TRAIN_RATIO*DATASET_SIZE))\n",
    "\n",
    "  val_test_dataset = dataset.skip(int(TRAIN_RATIO*DATASET_SIZE))\n",
    "  val_dataset = val_test_dataset.take(int(VAL_RATIO*DATASET_SIZE))\n",
    "\n",
    "  test_dataset = val_test_dataset.skip(int(VAL_RATIO*DATASET_SIZE))\n",
    "  return train_dataset, val_dataset, test_dataset"
   ]
  },
  {
   "cell_type": "code",
   "execution_count": 7,
   "metadata": {},
   "outputs": [],
   "source": [
    "TRAIN_RATIO = 0.7\n",
    "VAL_RATIO = 0.2\n",
    "TEST_RATIO = 0.1\n",
    "\n",
    "train_dataset, val_dataset, test_dataset = splits(dataset[0], TRAIN_RATIO, VAL_RATIO, TEST_RATIO )\n",
    "#print(list(train_dataset.take(1).as_numpy_iterator()),\n",
    " #     list(val_dataset.take(1).as_numpy_iterator()), list(test_dataset.take(1).as_numpy_iterator()))"
   ]
  },
  {
   "cell_type": "markdown",
   "metadata": {
    "jp-MarkdownHeadingCollapsed": true
   },
   "source": [
    "# Dataset Visualization"
   ]
  },
  {
   "cell_type": "code",
   "execution_count": 8,
   "metadata": {},
   "outputs": [
    {
     "data": {
      "image/png": "[encoded data removed]",
      "text/plain": [
       "<Figure size 640x480 with 16 Axes>"
      ]
     },
     "metadata": {},
     "output_type": "display_data"
    }
   ],
   "source": [
    "for i, (image, label) in enumerate(train_dataset.take(16)):\n",
    "  ax = plt.subplot(4, 4, i + 1)\n",
    "  \n",
    "  plt.imshow(image)\n",
    "  plt.title(dataset_info.features['label'].int2str(label))\n",
    "  plt.axis('off')"
   ]
  },
  {
   "cell_type": "code",
   "execution_count": null,
   "metadata": {},
   "outputs": [],
   "source": []
  },
  {
   "cell_type": "markdown",
   "metadata": {
    "jp-MarkdownHeadingCollapsed": true
   },
   "source": [
    "# Data preprocessing"
   ]
  },
  {
   "cell_type": "code",
   "execution_count": 9,
   "metadata": {},
   "outputs": [],
   "source": [
    "IM_SIZE=224\n",
    "def resiz_rescale(image,label):\n",
    "    return tf.image.resize(image,(IM_SIZE,IM_SIZE))/255.0, label\n",
    "    "
   ]
  },
  {
   "cell_type": "code",
   "execution_count": 10,
   "metadata": {},
   "outputs": [],
   "source": [
    "train_dataset=train_dataset.map(resiz_rescale)\n",
    "val_dataset=val_dataset.map(resiz_rescale)\n",
    "test_dataset=test_dataset.map(resiz_rescale)"
   ]
  },
  {
   "cell_type": "code",
   "execution_count": 11,
   "metadata": {},
   "outputs": [],
   "source": [
    "train_dataset=train_dataset.shuffle(buffer_size=8,reshuffle_each_iteration=True).batch(32).prefetch(tf.data.AUTOTUNE)\n",
    "val_dataset=val_dataset.shuffle(buffer_size=8,reshuffle_each_iteration=True).batch(32).prefetch(tf.data.AUTOTUNE)"
   ]
  },
  {
   "cell_type": "code",
   "execution_count": null,
   "metadata": {},
   "outputs": [],
   "source": []
  },
  {
   "cell_type": "markdown",
   "metadata": {
    "jp-MarkdownHeadingCollapsed": true
   },
   "source": [
    "# Hyperparameter Tuning"
   ]
  },
  {
   "cell_type": "code",
   "execution_count": 11,
   "metadata": {},
   "outputs": [],
   "source": [
    "LOG_DIR=\"./logs\"\n",
    "tensorboard_callback = TensorBoard(log_dir=LOG_DIR)"
   ]
  },
  {
   "cell_type": "code",
   "execution_count": 12,
   "metadata": {},
   "outputs": [],
   "source": [
    "es_callback=EarlyStopping(\n",
    "    monitor='val_loss',patience=3, verbose=1,restore_best_weights=True,\n",
    ")"
   ]
  },
  {
   "cell_type": "code",
   "execution_count": 13,
   "metadata": {},
   "outputs": [],
   "source": [
    "IM_SIZE = 224\n",
    "def model_tune(hparams):\n",
    "  lenet_model = tf.keras.Sequential([\n",
    "    InputLayer(input_shape = (IM_SIZE, IM_SIZE, 3)),\n",
    "\n",
    "    Conv2D(filters = 6, kernel_size = 3, strides=1, padding='valid',\n",
    "          activation = 'relu',),\n",
    "    BatchNormalization(),\n",
    "    MaxPool2D (pool_size = 2, strides= 2),\n",
    "    Dropout(rate = hparams[HP_DROPOUT]),\n",
    "\n",
    "    Conv2D(filters = 16, kernel_size = 3, strides=1, padding='valid',\n",
    "          activation = 'relu', ),\n",
    "    BatchNormalization(),\n",
    "    MaxPool2D (pool_size = 2, strides= 2),\n",
    "\n",
    "    Flatten(),\n",
    "    \n",
    "    Dense( hparams[HP_NUM_UNITS_1], activation = \"relu\", ),\n",
    "    BatchNormalization(),\n",
    "    Dropout(rate = hparams[HP_DROPOUT]),\n",
    "    \n",
    "    Dense(hparams[HP_NUM_UNITS_2], activation = \"relu\", ),\n",
    "    BatchNormalization(),\n",
    "\n",
    "    Dense(1, activation = \"sigmoid\"),\n",
    "  ])\n",
    "\n",
    "  lenet_model.compile(\n",
    "        optimizer= Adam(learning_rate = hparams[HP_LEARNING_RATE]),\n",
    "        loss='binary_crossentropy',\n",
    "        metrics=['accuracy'],\n",
    "    )\n",
    "\n",
    "  lenet_model.fit(train_dataset, validation_data=val_dataset ,epochs=20,callbacks=[tensorboard_callback,es_callback])\n",
    "  _, accuracy = lenet_model.evaluate(val_dataset)\n",
    "  return accuracy"
   ]
  },
  {
   "cell_type": "code",
   "execution_count": 26,
   "metadata": {},
   "outputs": [],
   "source": [
    "HP_NUM_UNITS_1 = hp.HParam('num_units_1', hp.Discrete([32,64,128]))\n",
    "HP_NUM_UNITS_2 = hp.HParam('num_units_2', hp.Discrete([16,32]))\n",
    "HP_DROPOUT = hp.HParam('dropout_rate', hp.Discrete([0.1,0.2]))\n",
    "HP_LEARNING_RATE = hp.HParam('learning_rate', hp.Discrete([1e-4, 1e-3]))\n",
    "\n"
   ]
  },
  {
   "cell_type": "code",
   "execution_count": 18,
   "metadata": {},
   "outputs": [
    {
     "name": "stdout",
     "output_type": "stream",
     "text": [
      "Epoch 1/20\n"
     ]
    },
    {
     "name": "stderr",
     "output_type": "stream",
     "text": [
      "2024-04-05 16:00:41.008293: E tensorflow/core/grappler/optimizers/meta_optimizer.cc:961] layout failed: INVALID_ARGUMENT: Size of values 0 does not match size of permutation 4 @ fanin shape insequential_2/dropout_4/dropout/SelectV2-2-TransposeNHWCToNCHW-LayoutOptimizer\n"
     ]
    },
    {
     "name": "stdout",
     "output_type": "stream",
     "text": [
      "603/603 [==============================] - 28s 44ms/step - loss: 0.6076 - accuracy: 0.6785 - val_loss: 0.6989 - val_accuracy: 0.5747\n",
      "Epoch 2/20\n",
      "603/603 [==============================] - 27s 44ms/step - loss: 0.5110 - accuracy: 0.7474 - val_loss: 0.7176 - val_accuracy: 0.6574\n",
      "Epoch 3/20\n",
      "603/603 [==============================] - 26s 43ms/step - loss: 0.3980 - accuracy: 0.8258 - val_loss: 0.7526 - val_accuracy: 0.6868\n",
      "Epoch 4/20\n",
      "603/603 [==============================] - ETA: 0s - loss: 0.3176 - accuracy: 0.8701Restoring model weights from the end of the best epoch: 1.\n",
      "603/603 [==============================] - 26s 43ms/step - loss: 0.3176 - accuracy: 0.8701 - val_loss: 0.7057 - val_accuracy: 0.7148\n",
      "Epoch 4: early stopping\n",
      "173/173 [==============================] - 3s 12ms/step - loss: 0.6985 - accuracy: 0.5754\n",
      "For the run 0, hparams num_units_1:32, num_units_2:16, dropout:0.1, learning_rate:0.0001\n",
      "Epoch 1/20\n"
     ]
    },
    {
     "name": "stderr",
     "output_type": "stream",
     "text": [
      "2024-04-05 16:02:30.976731: E tensorflow/core/grappler/optimizers/meta_optimizer.cc:961] layout failed: INVALID_ARGUMENT: Size of values 0 does not match size of permutation 4 @ fanin shape insequential_3/dropout_6/dropout/SelectV2-2-TransposeNHWCToNCHW-LayoutOptimizer\n"
     ]
    },
    {
     "name": "stdout",
     "output_type": "stream",
     "text": [
      "603/603 [==============================] - 28s 43ms/step - loss: 0.3581 - accuracy: 0.8571 - val_loss: 0.2531 - val_accuracy: 0.9116\n",
      "Epoch 2/20\n",
      "603/603 [==============================] - 26s 43ms/step - loss: 0.2180 - accuracy: 0.9243 - val_loss: 0.2095 - val_accuracy: 0.9274\n",
      "Epoch 3/20\n",
      "603/603 [==============================] - 26s 43ms/step - loss: 0.2001 - accuracy: 0.9291 - val_loss: 0.2121 - val_accuracy: 0.9271\n",
      "Epoch 4/20\n",
      "603/603 [==============================] - 26s 43ms/step - loss: 0.1792 - accuracy: 0.9374 - val_loss: 0.1895 - val_accuracy: 0.9341\n",
      "Epoch 5/20\n",
      "603/603 [==============================] - 26s 43ms/step - loss: 0.1663 - accuracy: 0.9411 - val_loss: 0.1932 - val_accuracy: 0.9316\n",
      "Epoch 6/20\n",
      "603/603 [==============================] - 27s 44ms/step - loss: 0.1425 - accuracy: 0.9500 - val_loss: 0.1874 - val_accuracy: 0.9401\n",
      "Epoch 7/20\n",
      "603/603 [==============================] - 27s 44ms/step - loss: 0.1265 - accuracy: 0.9548 - val_loss: 0.2198 - val_accuracy: 0.9323\n",
      "Epoch 8/20\n",
      "603/603 [==============================] - 27s 44ms/step - loss: 0.1069 - accuracy: 0.9633 - val_loss: 0.2307 - val_accuracy: 0.9352\n",
      "Epoch 9/20\n",
      "603/603 [==============================] - ETA: 0s - loss: 0.0913 - accuracy: 0.9680Restoring model weights from the end of the best epoch: 6.\n",
      "603/603 [==============================] - 26s 44ms/step - loss: 0.0913 - accuracy: 0.9680 - val_loss: 0.2615 - val_accuracy: 0.9309\n",
      "Epoch 9: early stopping\n",
      "173/173 [==============================] - 3s 12ms/step - loss: 0.1902 - accuracy: 0.9396\n",
      "For the run 1, hparams num_units_1:32, num_units_2:16, dropout:0.1, learning_rate:0.001\n",
      "Epoch 1/20\n"
     ]
    },
    {
     "name": "stderr",
     "output_type": "stream",
     "text": [
      "2024-04-05 16:06:32.770443: E tensorflow/core/grappler/optimizers/meta_optimizer.cc:961] layout failed: INVALID_ARGUMENT: Size of values 0 does not match size of permutation 4 @ fanin shape insequential_4/dropout_8/dropout/SelectV2-2-TransposeNHWCToNCHW-LayoutOptimizer\n"
     ]
    },
    {
     "name": "stdout",
     "output_type": "stream",
     "text": [
      "603/603 [==============================] - 28s 44ms/step - loss: 0.5619 - accuracy: 0.7138 - val_loss: 1.5296 - val_accuracy: 0.5513\n",
      "Epoch 2/20\n",
      "603/603 [==============================] - 27s 44ms/step - loss: 0.3556 - accuracy: 0.8604 - val_loss: 1.0150 - val_accuracy: 0.7124\n",
      "Epoch 3/20\n",
      "603/603 [==============================] - 27s 44ms/step - loss: 0.2986 - accuracy: 0.8874 - val_loss: 0.9750 - val_accuracy: 0.7436\n",
      "Epoch 4/20\n",
      "603/603 [==============================] - 27s 44ms/step - loss: 0.2770 - accuracy: 0.8966 - val_loss: 1.0555 - val_accuracy: 0.7177\n",
      "Epoch 5/20\n",
      "603/603 [==============================] - 27s 44ms/step - loss: 0.2518 - accuracy: 0.9049 - val_loss: 0.8114 - val_accuracy: 0.7926\n",
      "Epoch 6/20\n",
      "603/603 [==============================] - 27s 45ms/step - loss: 0.2335 - accuracy: 0.9139 - val_loss: 0.6630 - val_accuracy: 0.8409\n",
      "Epoch 7/20\n",
      "603/603 [==============================] - 27s 44ms/step - loss: 0.2208 - accuracy: 0.9190 - val_loss: 0.6118 - val_accuracy: 0.8439\n",
      "Epoch 8/20\n",
      "603/603 [==============================] - 27s 44ms/step - loss: 0.2062 - accuracy: 0.9254 - val_loss: 0.5866 - val_accuracy: 0.8581\n",
      "Epoch 9/20\n",
      "603/603 [==============================] - 27s 44ms/step - loss: 0.1952 - accuracy: 0.9264 - val_loss: 0.6713 - val_accuracy: 0.8510\n",
      "Epoch 10/20\n",
      "603/603 [==============================] - 27s 44ms/step - loss: 0.1810 - accuracy: 0.9342 - val_loss: 0.5229 - val_accuracy: 0.8802\n",
      "Epoch 11/20\n",
      "603/603 [==============================] - 27s 44ms/step - loss: 0.1675 - accuracy: 0.9396 - val_loss: 0.5531 - val_accuracy: 0.8811\n",
      "Epoch 12/20\n",
      "603/603 [==============================] - 27s 44ms/step - loss: 0.1543 - accuracy: 0.9447 - val_loss: 0.4074 - val_accuracy: 0.8955\n",
      "Epoch 13/20\n",
      "603/603 [==============================] - 27s 44ms/step - loss: 0.1428 - accuracy: 0.9497 - val_loss: 0.4874 - val_accuracy: 0.8973\n",
      "Epoch 14/20\n",
      "603/603 [==============================] - 27s 44ms/step - loss: 0.1390 - accuracy: 0.9505 - val_loss: 0.5694 - val_accuracy: 0.8919\n",
      "Epoch 15/20\n",
      "603/603 [==============================] - ETA: 0s - loss: 0.1315 - accuracy: 0.9543Restoring model weights from the end of the best epoch: 12.\n",
      "603/603 [==============================] - 27s 44ms/step - loss: 0.1315 - accuracy: 0.9543 - val_loss: 0.4184 - val_accuracy: 0.9049\n",
      "Epoch 15: early stopping\n",
      "173/173 [==============================] - 4s 13ms/step - loss: 0.4206 - accuracy: 0.8948\n",
      "For the run 2, hparams num_units_1:32, num_units_2:16, dropout:0.2, learning_rate:0.0001\n",
      "Epoch 1/20\n"
     ]
    },
    {
     "name": "stderr",
     "output_type": "stream",
     "text": [
      "2024-04-05 16:13:19.669694: E tensorflow/core/grappler/optimizers/meta_optimizer.cc:961] layout failed: INVALID_ARGUMENT: Size of values 0 does not match size of permutation 4 @ fanin shape insequential_5/dropout_10/dropout/SelectV2-2-TransposeNHWCToNCHW-LayoutOptimizer\n"
     ]
    },
    {
     "name": "stdout",
     "output_type": "stream",
     "text": [
      "603/603 [==============================] - 28s 44ms/step - loss: 0.5641 - accuracy: 0.7135 - val_loss: 2.2201 - val_accuracy: 0.5170\n",
      "Epoch 2/20\n",
      "603/603 [==============================] - 27s 44ms/step - loss: 0.2704 - accuracy: 0.8996 - val_loss: 0.3413 - val_accuracy: 0.8594\n",
      "Epoch 3/20\n",
      "603/603 [==============================] - 27s 45ms/step - loss: 0.2280 - accuracy: 0.9208 - val_loss: 0.3771 - val_accuracy: 0.8692\n",
      "Epoch 4/20\n",
      "603/603 [==============================] - 27s 44ms/step - loss: 0.2160 - accuracy: 0.9266 - val_loss: 1.3144 - val_accuracy: 0.8719\n",
      "Epoch 5/20\n",
      "603/603 [==============================] - ETA: 0s - loss: 0.1866 - accuracy: 0.9351Restoring model weights from the end of the best epoch: 2.\n",
      "603/603 [==============================] - 27s 45ms/step - loss: 0.1866 - accuracy: 0.9351 - val_loss: 0.3866 - val_accuracy: 0.8664\n",
      "Epoch 5: early stopping\n",
      "173/173 [==============================] - 4s 13ms/step - loss: 0.3404 - accuracy: 0.8603\n",
      "For the run 3, hparams num_units_1:32, num_units_2:16, dropout:0.2, learning_rate:0.001\n",
      "Epoch 1/20\n"
     ]
    },
    {
     "name": "stderr",
     "output_type": "stream",
     "text": [
      "2024-04-05 16:15:38.874749: E tensorflow/core/grappler/optimizers/meta_optimizer.cc:961] layout failed: INVALID_ARGUMENT: Size of values 0 does not match size of permutation 4 @ fanin shape insequential_6/dropout_12/dropout/SelectV2-2-TransposeNHWCToNCHW-LayoutOptimizer\n"
     ]
    },
    {
     "name": "stdout",
     "output_type": "stream",
     "text": [
      "603/603 [==============================] - 28s 44ms/step - loss: 0.6392 - accuracy: 0.6359 - val_loss: 0.7008 - val_accuracy: 0.6119\n",
      "Epoch 2/20\n",
      "603/603 [==============================] - 26s 44ms/step - loss: 0.5561 - accuracy: 0.7124 - val_loss: 0.6659 - val_accuracy: 0.6545\n",
      "Epoch 3/20\n",
      "603/603 [==============================] - 27s 44ms/step - loss: 0.4745 - accuracy: 0.7742 - val_loss: 0.8214 - val_accuracy: 0.6209\n",
      "Epoch 4/20\n",
      "603/603 [==============================] - 26s 44ms/step - loss: 0.3564 - accuracy: 0.8466 - val_loss: 0.9290 - val_accuracy: 0.6538\n",
      "Epoch 5/20\n",
      "603/603 [==============================] - ETA: 0s - loss: 0.2763 - accuracy: 0.8903Restoring model weights from the end of the best epoch: 2.\n",
      "603/603 [==============================] - 26s 44ms/step - loss: 0.2763 - accuracy: 0.8903 - val_loss: 0.8803 - val_accuracy: 0.6605\n",
      "Epoch 5: early stopping\n",
      "173/173 [==============================] - 4s 13ms/step - loss: 0.6651 - accuracy: 0.6549\n",
      "For the run 4, hparams num_units_1:32, num_units_2:32, dropout:0.1, learning_rate:0.0001\n",
      "Epoch 1/20\n"
     ]
    },
    {
     "name": "stderr",
     "output_type": "stream",
     "text": [
      "2024-04-05 16:17:56.404118: E tensorflow/core/grappler/optimizers/meta_optimizer.cc:961] layout failed: INVALID_ARGUMENT: Size of values 0 does not match size of permutation 4 @ fanin shape insequential_7/dropout_14/dropout/SelectV2-2-TransposeNHWCToNCHW-LayoutOptimizer\n"
     ]
    },
    {
     "name": "stdout",
     "output_type": "stream",
     "text": [
      "603/603 [==============================] - 27s 42ms/step - loss: 0.3320 - accuracy: 0.8643 - val_loss: 0.6404 - val_accuracy: 0.7338\n",
      "Epoch 2/20\n",
      "603/603 [==============================] - 25s 41ms/step - loss: 0.2532 - accuracy: 0.9055 - val_loss: 0.2695 - val_accuracy: 0.9162\n",
      "Epoch 3/20\n",
      "603/603 [==============================] - 25s 42ms/step - loss: 0.2048 - accuracy: 0.9293 - val_loss: 0.2673 - val_accuracy: 0.9105\n",
      "Epoch 4/20\n",
      "603/603 [==============================] - 25s 41ms/step - loss: 0.1744 - accuracy: 0.9382 - val_loss: 0.4953 - val_accuracy: 0.8946\n",
      "Epoch 5/20\n",
      "603/603 [==============================] - 25s 42ms/step - loss: 0.1468 - accuracy: 0.9480 - val_loss: 0.3466 - val_accuracy: 0.8815\n",
      "Epoch 6/20\n",
      "603/603 [==============================] - ETA: 0s - loss: 0.1275 - accuracy: 0.9532Restoring model weights from the end of the best epoch: 3.\n",
      "603/603 [==============================] - 25s 42ms/step - loss: 0.1275 - accuracy: 0.9532 - val_loss: 0.4737 - val_accuracy: 0.8285\n",
      "Epoch 6: early stopping\n",
      "173/173 [==============================] - 4s 13ms/step - loss: 0.2675 - accuracy: 0.9104\n",
      "For the run 5, hparams num_units_1:32, num_units_2:32, dropout:0.1, learning_rate:0.001\n",
      "Epoch 1/20\n"
     ]
    },
    {
     "name": "stderr",
     "output_type": "stream",
     "text": [
      "2024-04-05 16:20:32.607550: E tensorflow/core/grappler/optimizers/meta_optimizer.cc:961] layout failed: INVALID_ARGUMENT: Size of values 0 does not match size of permutation 4 @ fanin shape insequential_8/dropout_16/dropout/SelectV2-2-TransposeNHWCToNCHW-LayoutOptimizer\n"
     ]
    },
    {
     "name": "stdout",
     "output_type": "stream",
     "text": [
      "603/603 [==============================] - 29s 45ms/step - loss: 0.6067 - accuracy: 0.6760 - val_loss: 1.7782 - val_accuracy: 0.5790\n",
      "Epoch 2/20\n",
      "603/603 [==============================] - 27s 45ms/step - loss: 0.4729 - accuracy: 0.7772 - val_loss: 1.6904 - val_accuracy: 0.5819\n",
      "Epoch 3/20\n",
      "603/603 [==============================] - 27s 44ms/step - loss: 0.3422 - accuracy: 0.8619 - val_loss: 1.2799 - val_accuracy: 0.6634\n",
      "Epoch 4/20\n",
      "603/603 [==============================] - 27s 44ms/step - loss: 0.2913 - accuracy: 0.8907 - val_loss: 2.6411 - val_accuracy: 0.6384\n",
      "Epoch 5/20\n",
      "603/603 [==============================] - 27s 44ms/step - loss: 0.2578 - accuracy: 0.9046 - val_loss: 4.2196 - val_accuracy: 0.7001\n",
      "Epoch 6/20\n",
      "603/603 [==============================] - ETA: 0s - loss: 0.2305 - accuracy: 0.9170Restoring model weights from the end of the best epoch: 3.\n",
      "603/603 [==============================] - 27s 44ms/step - loss: 0.2305 - accuracy: 0.9170 - val_loss: 5.1914 - val_accuracy: 0.7106\n",
      "Epoch 6: early stopping\n",
      "173/173 [==============================] - 4s 13ms/step - loss: 1.2697 - accuracy: 0.6638\n",
      "For the run 6, hparams num_units_1:32, num_units_2:32, dropout:0.2, learning_rate:0.0001\n",
      "Epoch 1/20\n"
     ]
    },
    {
     "name": "stderr",
     "output_type": "stream",
     "text": [
      "2024-04-05 16:23:19.116435: E tensorflow/core/grappler/optimizers/meta_optimizer.cc:961] layout failed: INVALID_ARGUMENT: Size of values 0 does not match size of permutation 4 @ fanin shape insequential_9/dropout_18/dropout/SelectV2-2-TransposeNHWCToNCHW-LayoutOptimizer\n"
     ]
    },
    {
     "name": "stdout",
     "output_type": "stream",
     "text": [
      "603/603 [==============================] - 28s 44ms/step - loss: 0.4731 - accuracy: 0.7716 - val_loss: 2.5796 - val_accuracy: 0.5837\n",
      "Epoch 2/20\n",
      "603/603 [==============================] - 27s 44ms/step - loss: 0.2318 - accuracy: 0.9179 - val_loss: 0.3553 - val_accuracy: 0.8672\n",
      "Epoch 3/20\n",
      "603/603 [==============================] - 26s 44ms/step - loss: 0.1967 - accuracy: 0.9337 - val_loss: 0.3661 - val_accuracy: 0.8862\n",
      "Epoch 4/20\n",
      "603/603 [==============================] - 26s 44ms/step - loss: 0.1720 - accuracy: 0.9423 - val_loss: 0.3223 - val_accuracy: 0.8826\n",
      "Epoch 5/20\n",
      "603/603 [==============================] - 27s 44ms/step - loss: 0.1591 - accuracy: 0.9450 - val_loss: 0.2885 - val_accuracy: 0.8975\n",
      "Epoch 6/20\n",
      "603/603 [==============================] - 27s 44ms/step - loss: 0.1373 - accuracy: 0.9534 - val_loss: 0.2893 - val_accuracy: 0.8957\n",
      "Epoch 7/20\n",
      "603/603 [==============================] - 26s 44ms/step - loss: 0.1246 - accuracy: 0.9551 - val_loss: 0.5061 - val_accuracy: 0.8806\n",
      "Epoch 8/20\n",
      "603/603 [==============================] - ETA: 0s - loss: 0.1132 - accuracy: 0.9608Restoring model weights from the end of the best epoch: 5.\n",
      "603/603 [==============================] - 26s 44ms/step - loss: 0.1132 - accuracy: 0.9608 - val_loss: 0.6506 - val_accuracy: 0.8764\n",
      "Epoch 8: early stopping\n",
      "173/173 [==============================] - 4s 13ms/step - loss: 0.2897 - accuracy: 0.8973\n",
      "For the run 7, hparams num_units_1:32, num_units_2:32, dropout:0.2, learning_rate:0.001\n",
      "Epoch 1/20\n"
     ]
    },
    {
     "name": "stderr",
     "output_type": "stream",
     "text": [
      "2024-04-05 16:26:56.840940: E tensorflow/core/grappler/optimizers/meta_optimizer.cc:961] layout failed: INVALID_ARGUMENT: Size of values 0 does not match size of permutation 4 @ fanin shape insequential_10/dropout_20/dropout/SelectV2-2-TransposeNHWCToNCHW-LayoutOptimizer\n"
     ]
    },
    {
     "name": "stdout",
     "output_type": "stream",
     "text": [
      "603/603 [==============================] - 29s 45ms/step - loss: 0.6097 - accuracy: 0.6696 - val_loss: 0.6726 - val_accuracy: 0.6540\n",
      "Epoch 2/20\n",
      "603/603 [==============================] - 27s 45ms/step - loss: 0.5329 - accuracy: 0.7293 - val_loss: 0.9701 - val_accuracy: 0.6004\n",
      "Epoch 3/20\n",
      "603/603 [==============================] - 27s 45ms/step - loss: 0.4417 - accuracy: 0.7961 - val_loss: 1.2021 - val_accuracy: 0.5794\n",
      "Epoch 4/20\n",
      "603/603 [==============================] - ETA: 0s - loss: 0.3537 - accuracy: 0.8490Restoring model weights from the end of the best epoch: 1.\n",
      "603/603 [==============================] - 27s 45ms/step - loss: 0.3537 - accuracy: 0.8490 - val_loss: 0.9567 - val_accuracy: 0.6322\n",
      "Epoch 4: early stopping\n",
      "173/173 [==============================] - 4s 13ms/step - loss: 0.6715 - accuracy: 0.6538\n",
      "For the run 8, hparams num_units_1:64, num_units_2:16, dropout:0.1, learning_rate:0.0001\n",
      "Epoch 1/20\n"
     ]
    },
    {
     "name": "stderr",
     "output_type": "stream",
     "text": [
      "2024-04-05 16:28:51.341891: E tensorflow/core/grappler/optimizers/meta_optimizer.cc:961] layout failed: INVALID_ARGUMENT: Size of values 0 does not match size of permutation 4 @ fanin shape insequential_11/dropout_22/dropout/SelectV2-2-TransposeNHWCToNCHW-LayoutOptimizer\n"
     ]
    },
    {
     "name": "stdout",
     "output_type": "stream",
     "text": [
      "603/603 [==============================] - 29s 45ms/step - loss: 0.3864 - accuracy: 0.8290 - val_loss: 0.4197 - val_accuracy: 0.8312\n",
      "Epoch 2/20\n",
      "603/603 [==============================] - 27s 45ms/step - loss: 0.2288 - accuracy: 0.9177 - val_loss: 2.2991 - val_accuracy: 0.5961\n",
      "Epoch 3/20\n",
      "603/603 [==============================] - 27s 45ms/step - loss: 0.1964 - accuracy: 0.9320 - val_loss: 0.1754 - val_accuracy: 0.9412\n",
      "Epoch 4/20\n",
      "603/603 [==============================] - 27s 45ms/step - loss: 0.1651 - accuracy: 0.9406 - val_loss: 0.2769 - val_accuracy: 0.9113\n",
      "Epoch 5/20\n",
      "603/603 [==============================] - 27s 45ms/step - loss: 0.1437 - accuracy: 0.9488 - val_loss: 0.2576 - val_accuracy: 0.9225\n",
      "Epoch 6/20\n",
      "603/603 [==============================] - ETA: 0s - loss: 0.1276 - accuracy: 0.9539Restoring model weights from the end of the best epoch: 3.\n",
      "603/603 [==============================] - 27s 45ms/step - loss: 0.1276 - accuracy: 0.9539 - val_loss: 0.2016 - val_accuracy: 0.9372\n",
      "Epoch 6: early stopping\n",
      "173/173 [==============================] - 4s 13ms/step - loss: 0.1738 - accuracy: 0.9418\n",
      "For the run 9, hparams num_units_1:64, num_units_2:16, dropout:0.1, learning_rate:0.001\n",
      "Epoch 1/20\n"
     ]
    },
    {
     "name": "stderr",
     "output_type": "stream",
     "text": [
      "2024-04-05 16:31:39.416689: E tensorflow/core/grappler/optimizers/meta_optimizer.cc:961] layout failed: INVALID_ARGUMENT: Size of values 0 does not match size of permutation 4 @ fanin shape insequential_12/dropout_24/dropout/SelectV2-2-TransposeNHWCToNCHW-LayoutOptimizer\n"
     ]
    },
    {
     "name": "stdout",
     "output_type": "stream",
     "text": [
      "603/603 [==============================] - 29s 45ms/step - loss: 0.6100 - accuracy: 0.6752 - val_loss: 0.6377 - val_accuracy: 0.6358\n",
      "Epoch 2/20\n",
      "603/603 [==============================] - 27s 45ms/step - loss: 0.5599 - accuracy: 0.7187 - val_loss: 1.0128 - val_accuracy: 0.5543\n",
      "Epoch 3/20\n",
      "603/603 [==============================] - 27s 45ms/step - loss: 0.5155 - accuracy: 0.7460 - val_loss: 3.8275 - val_accuracy: 0.5467\n",
      "Epoch 4/20\n",
      "603/603 [==============================] - ETA: 0s - loss: 0.4588 - accuracy: 0.7871Restoring model weights from the end of the best epoch: 1.\n",
      "603/603 [==============================] - 28s 46ms/step - loss: 0.4588 - accuracy: 0.7871 - val_loss: 30.0729 - val_accuracy: 0.5250\n",
      "Epoch 4: early stopping\n",
      "173/173 [==============================] - 4s 13ms/step - loss: 0.6377 - accuracy: 0.6362\n",
      "For the run 10, hparams num_units_1:64, num_units_2:16, dropout:0.2, learning_rate:0.0001\n",
      "Epoch 1/20\n"
     ]
    },
    {
     "name": "stderr",
     "output_type": "stream",
     "text": [
      "2024-04-05 16:33:34.083247: E tensorflow/core/grappler/optimizers/meta_optimizer.cc:961] layout failed: INVALID_ARGUMENT: Size of values 0 does not match size of permutation 4 @ fanin shape insequential_13/dropout_26/dropout/SelectV2-2-TransposeNHWCToNCHW-LayoutOptimizer\n"
     ]
    },
    {
     "name": "stdout",
     "output_type": "stream",
     "text": [
      "603/603 [==============================] - 29s 45ms/step - loss: 0.6112 - accuracy: 0.6769 - val_loss: 1.1905 - val_accuracy: 0.5184\n",
      "Epoch 2/20\n",
      "603/603 [==============================] - 27s 45ms/step - loss: 0.4144 - accuracy: 0.8094 - val_loss: 1.6306 - val_accuracy: 0.6218\n",
      "Epoch 3/20\n",
      "603/603 [==============================] - 28s 46ms/step - loss: 0.2583 - accuracy: 0.9009 - val_loss: 0.4547 - val_accuracy: 0.8494\n",
      "Epoch 4/20\n",
      "603/603 [==============================] - 27s 45ms/step - loss: 0.2266 - accuracy: 0.9148 - val_loss: 0.2833 - val_accuracy: 0.9129\n",
      "Epoch 5/20\n",
      "603/603 [==============================] - 27s 45ms/step - loss: 0.1923 - accuracy: 0.9310 - val_loss: 0.2407 - val_accuracy: 0.9149\n",
      "Epoch 6/20\n",
      "603/603 [==============================] - 27s 45ms/step - loss: 0.1757 - accuracy: 0.9368 - val_loss: 0.2516 - val_accuracy: 0.9212\n",
      "Epoch 7/20\n",
      "603/603 [==============================] - 27s 45ms/step - loss: 0.1552 - accuracy: 0.9441 - val_loss: 0.2962 - val_accuracy: 0.9160\n",
      "Epoch 8/20\n",
      "603/603 [==============================] - ETA: 0s - loss: 0.1409 - accuracy: 0.9499Restoring model weights from the end of the best epoch: 5.\n",
      "603/603 [==============================] - 27s 45ms/step - loss: 0.1409 - accuracy: 0.9499 - val_loss: 0.3699 - val_accuracy: 0.9198\n",
      "Epoch 8: early stopping\n",
      "173/173 [==============================] - 4s 13ms/step - loss: 0.2417 - accuracy: 0.9144\n",
      "For the run 11, hparams num_units_1:64, num_units_2:16, dropout:0.2, learning_rate:0.001\n",
      "Epoch 1/20\n"
     ]
    },
    {
     "name": "stderr",
     "output_type": "stream",
     "text": [
      "2024-04-05 16:37:17.888360: E tensorflow/core/grappler/optimizers/meta_optimizer.cc:961] layout failed: INVALID_ARGUMENT: Size of values 0 does not match size of permutation 4 @ fanin shape insequential_14/dropout_28/dropout/SelectV2-2-TransposeNHWCToNCHW-LayoutOptimizer\n"
     ]
    },
    {
     "name": "stdout",
     "output_type": "stream",
     "text": [
      "603/603 [==============================] - 29s 45ms/step - loss: 0.6421 - accuracy: 0.6495 - val_loss: 0.8424 - val_accuracy: 0.5395\n",
      "Epoch 2/20\n",
      "603/603 [==============================] - 27s 45ms/step - loss: 0.5318 - accuracy: 0.7319 - val_loss: 1.2991 - val_accuracy: 0.5983\n",
      "Epoch 3/20\n",
      "603/603 [==============================] - 27s 45ms/step - loss: 0.3873 - accuracy: 0.8274 - val_loss: 1.7879 - val_accuracy: 0.6570\n",
      "Epoch 4/20\n",
      "603/603 [==============================] - ETA: 0s - loss: 0.2927 - accuracy: 0.8829Restoring model weights from the end of the best epoch: 1.\n",
      "603/603 [==============================] - 27s 45ms/step - loss: 0.2927 - accuracy: 0.8829 - val_loss: 1.9967 - val_accuracy: 0.6766\n",
      "Epoch 4: early stopping\n",
      "173/173 [==============================] - 4s 13ms/step - loss: 0.8436 - accuracy: 0.5393\n",
      "For the run 12, hparams num_units_1:64, num_units_2:32, dropout:0.1, learning_rate:0.0001\n",
      "Epoch 1/20\n"
     ]
    },
    {
     "name": "stderr",
     "output_type": "stream",
     "text": [
      "2024-04-05 16:39:12.119368: E tensorflow/core/grappler/optimizers/meta_optimizer.cc:961] layout failed: INVALID_ARGUMENT: Size of values 0 does not match size of permutation 4 @ fanin shape insequential_15/dropout_30/dropout/SelectV2-2-TransposeNHWCToNCHW-LayoutOptimizer\n"
     ]
    },
    {
     "name": "stdout",
     "output_type": "stream",
     "text": [
      "603/603 [==============================] - 29s 46ms/step - loss: 0.5240 - accuracy: 0.7365 - val_loss: 1.7114 - val_accuracy: 0.5959\n",
      "Epoch 2/20\n",
      "603/603 [==============================] - 28s 46ms/step - loss: 0.3252 - accuracy: 0.8667 - val_loss: 0.2975 - val_accuracy: 0.8873\n",
      "Epoch 3/20\n",
      "603/603 [==============================] - 27s 45ms/step - loss: 0.2346 - accuracy: 0.9148 - val_loss: 0.2709 - val_accuracy: 0.9151\n",
      "Epoch 4/20\n",
      "603/603 [==============================] - 27s 45ms/step - loss: 0.2007 - accuracy: 0.9271 - val_loss: 0.2364 - val_accuracy: 0.9294\n",
      "Epoch 5/20\n",
      "603/603 [==============================] - 27s 45ms/step - loss: 0.1892 - accuracy: 0.9305 - val_loss: 0.3001 - val_accuracy: 0.9163\n",
      "Epoch 6/20\n",
      "603/603 [==============================] - 27s 45ms/step - loss: 0.1649 - accuracy: 0.9424 - val_loss: 0.2646 - val_accuracy: 0.9209\n",
      "Epoch 7/20\n",
      "603/603 [==============================] - ETA: 0s - loss: 0.1492 - accuracy: 0.9449Restoring model weights from the end of the best epoch: 4.\n",
      "603/603 [==============================] - 27s 45ms/step - loss: 0.1492 - accuracy: 0.9449 - val_loss: 0.4377 - val_accuracy: 0.9182\n",
      "Epoch 7: early stopping\n",
      "173/173 [==============================] - 4s 13ms/step - loss: 0.2362 - accuracy: 0.9292\n",
      "For the run 13, hparams num_units_1:64, num_units_2:32, dropout:0.1, learning_rate:0.001\n",
      "Epoch 1/20\n"
     ]
    },
    {
     "name": "stderr",
     "output_type": "stream",
     "text": [
      "2024-04-05 16:42:29.056770: E tensorflow/core/grappler/optimizers/meta_optimizer.cc:961] layout failed: INVALID_ARGUMENT: Size of values 0 does not match size of permutation 4 @ fanin shape insequential_16/dropout_32/dropout/SelectV2-2-TransposeNHWCToNCHW-LayoutOptimizer\n"
     ]
    },
    {
     "name": "stdout",
     "output_type": "stream",
     "text": [
      "603/603 [==============================] - 29s 45ms/step - loss: 0.6153 - accuracy: 0.6722 - val_loss: 0.6615 - val_accuracy: 0.6257\n",
      "Epoch 2/20\n",
      "603/603 [==============================] - 27s 45ms/step - loss: 0.5210 - accuracy: 0.7448 - val_loss: 0.7763 - val_accuracy: 0.6516\n",
      "Epoch 3/20\n",
      "603/603 [==============================] - 27s 45ms/step - loss: 0.4322 - accuracy: 0.8022 - val_loss: 1.1347 - val_accuracy: 0.6320\n",
      "Epoch 4/20\n",
      "603/603 [==============================] - ETA: 0s - loss: 0.3437 - accuracy: 0.8539Restoring model weights from the end of the best epoch: 1.\n",
      "603/603 [==============================] - 27s 45ms/step - loss: 0.3437 - accuracy: 0.8539 - val_loss: 1.4581 - val_accuracy: 0.6474\n",
      "Epoch 4: early stopping\n",
      "173/173 [==============================] - 4s 13ms/step - loss: 0.6627 - accuracy: 0.6248\n",
      "For the run 14, hparams num_units_1:64, num_units_2:32, dropout:0.2, learning_rate:0.0001\n",
      "Epoch 1/20\n"
     ]
    },
    {
     "name": "stderr",
     "output_type": "stream",
     "text": [
      "2024-04-05 16:44:22.256432: E tensorflow/core/grappler/optimizers/meta_optimizer.cc:961] layout failed: INVALID_ARGUMENT: Size of values 0 does not match size of permutation 4 @ fanin shape insequential_17/dropout_34/dropout/SelectV2-2-TransposeNHWCToNCHW-LayoutOptimizer\n"
     ]
    },
    {
     "name": "stdout",
     "output_type": "stream",
     "text": [
      "603/603 [==============================] - 29s 45ms/step - loss: 0.4766 - accuracy: 0.7703 - val_loss: 3.1558 - val_accuracy: 0.6619\n",
      "Epoch 2/20\n",
      "603/603 [==============================] - 27s 45ms/step - loss: 0.2559 - accuracy: 0.9044 - val_loss: 0.4813 - val_accuracy: 0.8532\n",
      "Epoch 3/20\n",
      "603/603 [==============================] - 27s 45ms/step - loss: 0.2109 - accuracy: 0.9220 - val_loss: 0.4698 - val_accuracy: 0.9140\n",
      "Epoch 4/20\n",
      "603/603 [==============================] - 27s 45ms/step - loss: 0.1904 - accuracy: 0.9319 - val_loss: 0.5867 - val_accuracy: 0.8234\n",
      "Epoch 5/20\n",
      "603/603 [==============================] - 27s 45ms/step - loss: 0.1785 - accuracy: 0.9358 - val_loss: 0.2150 - val_accuracy: 0.9220\n",
      "Epoch 6/20\n",
      "603/603 [==============================] - 27s 45ms/step - loss: 0.1656 - accuracy: 0.9389 - val_loss: 1.4123 - val_accuracy: 0.7144\n",
      "Epoch 7/20\n",
      "603/603 [==============================] - 27s 44ms/step - loss: 0.1499 - accuracy: 0.9464 - val_loss: 0.2956 - val_accuracy: 0.8880\n",
      "Epoch 8/20\n",
      "603/603 [==============================] - ETA: 0s - loss: 0.1208 - accuracy: 0.9565Restoring model weights from the end of the best epoch: 5.\n",
      "603/603 [==============================] - 27s 44ms/step - loss: 0.1208 - accuracy: 0.9565 - val_loss: 0.2764 - val_accuracy: 0.8989\n",
      "Epoch 8: early stopping\n",
      "173/173 [==============================] - 4s 13ms/step - loss: 0.2137 - accuracy: 0.9234\n",
      "For the run 15, hparams num_units_1:64, num_units_2:32, dropout:0.2, learning_rate:0.001\n",
      "Epoch 1/20\n"
     ]
    },
    {
     "name": "stderr",
     "output_type": "stream",
     "text": [
      "2024-04-05 16:48:03.834659: E tensorflow/core/grappler/optimizers/meta_optimizer.cc:961] layout failed: INVALID_ARGUMENT: Size of values 0 does not match size of permutation 4 @ fanin shape insequential_18/dropout_36/dropout/SelectV2-2-TransposeNHWCToNCHW-LayoutOptimizer\n"
     ]
    },
    {
     "name": "stdout",
     "output_type": "stream",
     "text": [
      "603/603 [==============================] - 30s 46ms/step - loss: 0.6109 - accuracy: 0.6750 - val_loss: 0.9199 - val_accuracy: 0.5540\n",
      "Epoch 2/20\n",
      "603/603 [==============================] - 28s 46ms/step - loss: 0.5228 - accuracy: 0.7427 - val_loss: 2.0506 - val_accuracy: 0.5358\n",
      "Epoch 3/20\n",
      "603/603 [==============================] - 28s 46ms/step - loss: 0.4404 - accuracy: 0.7941 - val_loss: 3.1982 - val_accuracy: 0.5382\n",
      "Epoch 4/20\n",
      "603/603 [==============================] - ETA: 0s - loss: 0.3414 - accuracy: 0.8580Restoring model weights from the end of the best epoch: 1.\n",
      "603/603 [==============================] - 28s 46ms/step - loss: 0.3414 - accuracy: 0.8580 - val_loss: 4.5233 - val_accuracy: 0.5436\n",
      "Epoch 4: early stopping\n",
      "173/173 [==============================] - 4s 13ms/step - loss: 0.9180 - accuracy: 0.5558\n",
      "For the run 16, hparams num_units_1:128, num_units_2:16, dropout:0.1, learning_rate:0.0001\n",
      "Epoch 1/20\n"
     ]
    },
    {
     "name": "stderr",
     "output_type": "stream",
     "text": [
      "2024-04-05 16:50:00.495198: E tensorflow/core/grappler/optimizers/meta_optimizer.cc:961] layout failed: INVALID_ARGUMENT: Size of values 0 does not match size of permutation 4 @ fanin shape insequential_19/dropout_38/dropout/SelectV2-2-TransposeNHWCToNCHW-LayoutOptimizer\n"
     ]
    },
    {
     "name": "stdout",
     "output_type": "stream",
     "text": [
      "603/603 [==============================] - 29s 46ms/step - loss: 0.5545 - accuracy: 0.7179 - val_loss: 3.9328 - val_accuracy: 0.5124\n",
      "Epoch 2/20\n",
      "603/603 [==============================] - 28s 46ms/step - loss: 0.2498 - accuracy: 0.9081 - val_loss: 0.2991 - val_accuracy: 0.8980\n",
      "Epoch 3/20\n",
      "603/603 [==============================] - 28s 46ms/step - loss: 0.1958 - accuracy: 0.9301 - val_loss: 0.2065 - val_accuracy: 0.9291\n",
      "Epoch 4/20\n",
      "603/603 [==============================] - 28s 46ms/step - loss: 0.1621 - accuracy: 0.9409 - val_loss: 0.2634 - val_accuracy: 0.9176\n",
      "Epoch 5/20\n",
      "603/603 [==============================] - 28s 46ms/step - loss: 0.1378 - accuracy: 0.9491 - val_loss: 0.2644 - val_accuracy: 0.9147\n",
      "Epoch 6/20\n",
      "603/603 [==============================] - ETA: 0s - loss: 0.1212 - accuracy: 0.9566Restoring model weights from the end of the best epoch: 3.\n",
      "603/603 [==============================] - 28s 46ms/step - loss: 0.1212 - accuracy: 0.9566 - val_loss: 1.4638 - val_accuracy: 0.7198\n",
      "Epoch 6: early stopping\n",
      "173/173 [==============================] - 4s 13ms/step - loss: 0.2069 - accuracy: 0.9292\n",
      "For the run 17, hparams num_units_1:128, num_units_2:16, dropout:0.1, learning_rate:0.001\n",
      "Epoch 1/20\n"
     ]
    },
    {
     "name": "stderr",
     "output_type": "stream",
     "text": [
      "2024-04-05 16:52:52.186719: E tensorflow/core/grappler/optimizers/meta_optimizer.cc:961] layout failed: INVALID_ARGUMENT: Size of values 0 does not match size of permutation 4 @ fanin shape insequential_20/dropout_40/dropout/SelectV2-2-TransposeNHWCToNCHW-LayoutOptimizer\n"
     ]
    },
    {
     "name": "stdout",
     "output_type": "stream",
     "text": [
      "603/603 [==============================] - 29s 45ms/step - loss: 0.6264 - accuracy: 0.6524 - val_loss: 0.6438 - val_accuracy: 0.6351\n",
      "Epoch 2/20\n",
      "603/603 [==============================] - 27s 45ms/step - loss: 0.5755 - accuracy: 0.6964 - val_loss: 0.6336 - val_accuracy: 0.6587\n",
      "Epoch 3/20\n",
      "603/603 [==============================] - 27s 45ms/step - loss: 0.5423 - accuracy: 0.7272 - val_loss: 0.8241 - val_accuracy: 0.5776\n",
      "Epoch 4/20\n",
      "603/603 [==============================] - 27s 45ms/step - loss: 0.5078 - accuracy: 0.7524 - val_loss: 0.9722 - val_accuracy: 0.5767\n",
      "Epoch 5/20\n",
      "603/603 [==============================] - ETA: 0s - loss: 0.4677 - accuracy: 0.7823Restoring model weights from the end of the best epoch: 2.\n",
      "603/603 [==============================] - 27s 45ms/step - loss: 0.4677 - accuracy: 0.7823 - val_loss: 1.2283 - val_accuracy: 0.5788\n",
      "Epoch 5: early stopping\n",
      "173/173 [==============================] - 4s 13ms/step - loss: 0.6353 - accuracy: 0.6574\n",
      "For the run 18, hparams num_units_1:128, num_units_2:16, dropout:0.2, learning_rate:0.0001\n",
      "Epoch 1/20\n"
     ]
    },
    {
     "name": "stderr",
     "output_type": "stream",
     "text": [
      "2024-04-05 16:55:14.178262: E tensorflow/core/grappler/optimizers/meta_optimizer.cc:961] layout failed: INVALID_ARGUMENT: Size of values 0 does not match size of permutation 4 @ fanin shape insequential_21/dropout_42/dropout/SelectV2-2-TransposeNHWCToNCHW-LayoutOptimizer\n"
     ]
    },
    {
     "name": "stdout",
     "output_type": "stream",
     "text": [
      "603/603 [==============================] - 30s 46ms/step - loss: 0.5576 - accuracy: 0.7178 - val_loss: 0.7236 - val_accuracy: 0.7204\n",
      "Epoch 2/20\n",
      "603/603 [==============================] - 28s 46ms/step - loss: 0.2782 - accuracy: 0.8948 - val_loss: 0.6486 - val_accuracy: 0.8046\n",
      "Epoch 3/20\n",
      "603/603 [==============================] - 28s 46ms/step - loss: 0.2300 - accuracy: 0.9153 - val_loss: 0.3014 - val_accuracy: 0.8871\n",
      "Epoch 4/20\n",
      "603/603 [==============================] - 28s 46ms/step - loss: 0.2295 - accuracy: 0.9159 - val_loss: 0.5031 - val_accuracy: 0.9205\n",
      "Epoch 5/20\n",
      "603/603 [==============================] - 28s 46ms/step - loss: 0.2221 - accuracy: 0.9155 - val_loss: 0.4296 - val_accuracy: 0.8563\n",
      "Epoch 6/20\n",
      "603/603 [==============================] - ETA: 0s - loss: 0.1900 - accuracy: 0.9318Restoring model weights from the end of the best epoch: 3.\n",
      "603/603 [==============================] - 28s 46ms/step - loss: 0.1900 - accuracy: 0.9318 - val_loss: 0.3421 - val_accuracy: 0.9024\n",
      "Epoch 6: early stopping\n",
      "173/173 [==============================] - 4s 13ms/step - loss: 0.3022 - accuracy: 0.8868\n",
      "For the run 19, hparams num_units_1:128, num_units_2:16, dropout:0.2, learning_rate:0.001\n",
      "Epoch 1/20\n"
     ]
    },
    {
     "name": "stderr",
     "output_type": "stream",
     "text": [
      "2024-04-05 16:58:06.506632: E tensorflow/core/grappler/optimizers/meta_optimizer.cc:961] layout failed: INVALID_ARGUMENT: Size of values 0 does not match size of permutation 4 @ fanin shape insequential_22/dropout_44/dropout/SelectV2-2-TransposeNHWCToNCHW-LayoutOptimizer\n"
     ]
    },
    {
     "name": "stdout",
     "output_type": "stream",
     "text": [
      "603/603 [==============================] - 29s 46ms/step - loss: 0.5596 - accuracy: 0.7162 - val_loss: 0.7805 - val_accuracy: 0.6240\n",
      "Epoch 2/20\n",
      "603/603 [==============================] - 28s 46ms/step - loss: 0.3983 - accuracy: 0.8210 - val_loss: 0.8107 - val_accuracy: 0.6810\n",
      "Epoch 3/20\n",
      "603/603 [==============================] - 28s 46ms/step - loss: 0.2910 - accuracy: 0.8803 - val_loss: 0.9263 - val_accuracy: 0.7022\n",
      "Epoch 4/20\n",
      "603/603 [==============================] - ETA: 0s - loss: 0.2298 - accuracy: 0.9114Restoring model weights from the end of the best epoch: 1.\n",
      "603/603 [==============================] - 28s 46ms/step - loss: 0.2298 - accuracy: 0.9114 - val_loss: 0.9802 - val_accuracy: 0.7289\n",
      "Epoch 4: early stopping\n",
      "173/173 [==============================] - 4s 13ms/step - loss: 0.7813 - accuracy: 0.6228\n",
      "For the run 20, hparams num_units_1:128, num_units_2:32, dropout:0.1, learning_rate:0.0001\n",
      "Epoch 1/20\n"
     ]
    },
    {
     "name": "stderr",
     "output_type": "stream",
     "text": [
      "2024-04-05 17:00:02.645393: E tensorflow/core/grappler/optimizers/meta_optimizer.cc:961] layout failed: INVALID_ARGUMENT: Size of values 0 does not match size of permutation 4 @ fanin shape insequential_23/dropout_46/dropout/SelectV2-2-TransposeNHWCToNCHW-LayoutOptimizer\n"
     ]
    },
    {
     "name": "stdout",
     "output_type": "stream",
     "text": [
      "603/603 [==============================] - 29s 46ms/step - loss: 0.3636 - accuracy: 0.8449 - val_loss: 0.6164 - val_accuracy: 0.7616\n",
      "Epoch 2/20\n",
      "603/603 [==============================] - 28s 46ms/step - loss: 0.2481 - accuracy: 0.9029 - val_loss: 0.2050 - val_accuracy: 0.9307\n",
      "Epoch 3/20\n",
      "603/603 [==============================] - 28s 46ms/step - loss: 0.1953 - accuracy: 0.9276 - val_loss: 0.3062 - val_accuracy: 0.8940\n",
      "Epoch 4/20\n",
      "603/603 [==============================] - 28s 46ms/step - loss: 0.1732 - accuracy: 0.9380 - val_loss: 0.4188 - val_accuracy: 0.8559\n",
      "Epoch 5/20\n",
      "603/603 [==============================] - ETA: 0s - loss: 0.1685 - accuracy: 0.9387Restoring model weights from the end of the best epoch: 2.\n",
      "603/603 [==============================] - 28s 46ms/step - loss: 0.1685 - accuracy: 0.9387 - val_loss: 0.4000 - val_accuracy: 0.8942\n",
      "Epoch 5: early stopping\n",
      "173/173 [==============================] - 4s 13ms/step - loss: 0.2050 - accuracy: 0.9310\n",
      "For the run 21, hparams num_units_1:128, num_units_2:32, dropout:0.1, learning_rate:0.001\n",
      "Epoch 1/20\n"
     ]
    },
    {
     "name": "stderr",
     "output_type": "stream",
     "text": [
      "2024-04-05 17:02:26.609416: E tensorflow/core/grappler/optimizers/meta_optimizer.cc:961] layout failed: INVALID_ARGUMENT: Size of values 0 does not match size of permutation 4 @ fanin shape insequential_24/dropout_48/dropout/SelectV2-2-TransposeNHWCToNCHW-LayoutOptimizer\n"
     ]
    },
    {
     "name": "stdout",
     "output_type": "stream",
     "text": [
      "603/603 [==============================] - 29s 46ms/step - loss: 0.6234 - accuracy: 0.6681 - val_loss: 0.8209 - val_accuracy: 0.5540\n",
      "Epoch 2/20\n",
      "603/603 [==============================] - 28s 46ms/step - loss: 0.5144 - accuracy: 0.7461 - val_loss: 1.2919 - val_accuracy: 0.5444\n",
      "Epoch 3/20\n",
      "603/603 [==============================] - 28s 46ms/step - loss: 0.3444 - accuracy: 0.8557 - val_loss: 1.6431 - val_accuracy: 0.6090\n",
      "Epoch 4/20\n",
      "603/603 [==============================] - ETA: 0s - loss: 0.2522 - accuracy: 0.9049Restoring model weights from the end of the best epoch: 1.\n",
      "603/603 [==============================] - 28s 46ms/step - loss: 0.2522 - accuracy: 0.9049 - val_loss: 1.5632 - val_accuracy: 0.6874\n",
      "Epoch 4: early stopping\n",
      "173/173 [==============================] - 4s 13ms/step - loss: 0.8194 - accuracy: 0.5553\n",
      "For the run 22, hparams num_units_1:128, num_units_2:32, dropout:0.2, learning_rate:0.0001\n",
      "Epoch 1/20\n"
     ]
    },
    {
     "name": "stderr",
     "output_type": "stream",
     "text": [
      "2024-04-05 17:04:23.278797: E tensorflow/core/grappler/optimizers/meta_optimizer.cc:961] layout failed: INVALID_ARGUMENT: Size of values 0 does not match size of permutation 4 @ fanin shape insequential_25/dropout_50/dropout/SelectV2-2-TransposeNHWCToNCHW-LayoutOptimizer\n"
     ]
    },
    {
     "name": "stdout",
     "output_type": "stream",
     "text": [
      "603/603 [==============================] - 30s 47ms/step - loss: 0.5283 - accuracy: 0.7389 - val_loss: 1.6461 - val_accuracy: 0.6013\n",
      "Epoch 2/20\n",
      "603/603 [==============================] - 28s 46ms/step - loss: 0.3156 - accuracy: 0.8702 - val_loss: 0.7549 - val_accuracy: 0.6627\n",
      "Epoch 3/20\n",
      "603/603 [==============================] - 28s 47ms/step - loss: 0.2557 - accuracy: 0.9029 - val_loss: 13.9719 - val_accuracy: 0.7884\n",
      "Epoch 4/20\n",
      "603/603 [==============================] - 28s 46ms/step - loss: 0.2392 - accuracy: 0.9086 - val_loss: 51.8989 - val_accuracy: 0.7480\n",
      "Epoch 5/20\n",
      "603/603 [==============================] - ETA: 0s - loss: 0.2071 - accuracy: 0.9268Restoring model weights from the end of the best epoch: 2.\n",
      "603/603 [==============================] - 28s 46ms/step - loss: 0.2071 - accuracy: 0.9268 - val_loss: 16.2319 - val_accuracy: 0.8674\n",
      "Epoch 5: early stopping\n",
      "173/173 [==============================] - 4s 13ms/step - loss: 0.7286 - accuracy: 0.6639\n",
      "For the run 23, hparams num_units_1:128, num_units_2:32, dropout:0.2, learning_rate:0.001\n"
     ]
    }
   ],
   "source": [
    "run_number = 0\n",
    "for num_units_1 in HP_NUM_UNITS_1.domain.values:\n",
    "  for num_units_2 in HP_NUM_UNITS_2.domain.values:\n",
    "    for dropout_rate in HP_DROPOUT.domain.values:\n",
    "        for learning_rate in HP_LEARNING_RATE.domain.values:\n",
    "\n",
    "          hparams = {\n",
    "            \n",
    "              HP_NUM_UNITS_1: num_units_1,\n",
    "              HP_NUM_UNITS_2: num_units_2,\n",
    "              HP_DROPOUT: dropout_rate,\n",
    "              HP_LEARNING_RATE: learning_rate,\n",
    "              \n",
    "          }\n",
    "          file_writer = tf.summary.create_file_writer('logs/hparams-' + str(run_number))\n",
    "\n",
    "          with file_writer.as_default():\n",
    "              hp.hparams(hparams)\n",
    "              accuracy = model_tune(hparams)\n",
    "              tf.summary.scalar('accuracy', accuracy, step = 0)\n",
    "          print(\"For the run {}, hparams num_units_1:{}, num_units_2:{}, dropout:{}, learning_rate:{}\".format(run_number, hparams[HP_NUM_UNITS_1],\n",
    "                                                   hparams[HP_NUM_UNITS_2],hparams[HP_DROPOUT],\n",
    "                                                   hparams[HP_LEARNING_RATE]))\n",
    "          run_number += 1"
   ]
  },
  {
   "cell_type": "markdown",
   "metadata": {},
   "source": []
  },
  {
   "cell_type": "markdown",
   "metadata": {
    "jp-MarkdownHeadingCollapsed": true
   },
   "source": [
    "# Model Evaluation"
   ]
  },
  {
   "cell_type": "code",
   "execution_count": 12,
   "metadata": {},
   "outputs": [],
   "source": [
    "%load_ext tensorboard"
   ]
  },
  {
   "cell_type": "code",
   "execution_count": 46,
   "metadata": {},
   "outputs": [
    {
     "data": {
      "text/plain": [
       "Reusing TensorBoard on port 6006 (pid 5648), started 1:15:04 ago. (Use '!kill 5648' to kill it.)"
      ]
     },
     "metadata": {},
     "output_type": "display_data"
    },
    {
     "data": {
      "text/html": [
       "\n",
       "      <iframe id=\"tensorboard-frame-7a9f470b8ca56116\" width=\"100%\" height=\"800\" frameborder=\"0\">\n",
       "      </iframe>\n",
       "      <script>\n",
       "        (function() {\n",
       "          const frame = document.getElementById(\"tensorboard-frame-7a9f470b8ca56116\");\n",
       "          const url = new URL(\"http://localhost\");\n",
       "          const port = 6006;\n",
       "          if (port) {\n",
       "            url.port = port;\n",
       "          }\n",
       "          frame.src = url;\n",
       "        })();\n",
       "      </script>\n",
       "    "
      ],
      "text/plain": [
       "<IPython.core.display.HTML object>"
      ]
     },
     "metadata": {},
     "output_type": "display_data"
    }
   ],
   "source": [
    "%tensorboard --logdir=./logs"
   ]
  },
  {
   "cell_type": "code",
   "execution_count": null,
   "metadata": {},
   "outputs": [],
   "source": [
    " #  rm -rf ./logs/ "
   ]
  },
  {
   "cell_type": "markdown",
   "metadata": {},
   "source": [
    "# Final Model Building And Training"
   ]
  },
  {
   "cell_type": "code",
   "execution_count": 37,
   "metadata": {},
   "outputs": [],
   "source": [
    "hp= {\n",
    "            \n",
    "              'HP_NUM_UNITS_1': 64,\n",
    "              'HP_NUM_UNITS_2': 16,\n",
    "              'HP_DROPOUT': 0.1,\n",
    "              'HP_LEARNING_RATE': 0.001,\n",
    "              \n",
    "          }"
   ]
  },
  {
   "cell_type": "code",
   "execution_count": 38,
   "metadata": {},
   "outputs": [
    {
     "name": "stdout",
     "output_type": "stream",
     "text": [
      "Model: \"sequential_2\"\n",
      "_________________________________________________________________\n",
      " Layer (type)                Output Shape              Param #   \n",
      "=================================================================\n",
      " conv2d_4 (Conv2D)           (None, 222, 222, 6)       168       \n",
      "                                                                 \n",
      " batch_normalization_8 (Bat  (None, 222, 222, 6)       24        \n",
      " chNormalization)                                                \n",
      "                                                                 \n",
      " max_pooling2d_4 (MaxPoolin  (None, 111, 111, 6)       0         \n",
      " g2D)                                                            \n",
      "                                                                 \n",
      " dropout_4 (Dropout)         (None, 111, 111, 6)       0         \n",
      "                                                                 \n",
      " conv2d_5 (Conv2D)           (None, 109, 109, 16)      880       \n",
      "                                                                 \n",
      " batch_normalization_9 (Bat  (None, 109, 109, 16)      64        \n",
      " chNormalization)                                                \n",
      "                                                                 \n",
      " max_pooling2d_5 (MaxPoolin  (None, 54, 54, 16)        0         \n",
      " g2D)                                                            \n",
      "                                                                 \n",
      " flatten_2 (Flatten)         (None, 46656)             0         \n",
      "                                                                 \n",
      " dense_6 (Dense)             (None, 64)                2986048   \n",
      "                                                                 \n",
      " batch_normalization_10 (Ba  (None, 64)                256       \n",
      " tchNormalization)                                               \n",
      "                                                                 \n",
      " dropout_5 (Dropout)         (None, 64)                0         \n",
      "                                                                 \n",
      " dense_7 (Dense)             (None, 16)                1040      \n",
      "                                                                 \n",
      " batch_normalization_11 (Ba  (None, 16)                64        \n",
      " tchNormalization)                                               \n",
      "                                                                 \n",
      " dense_8 (Dense)             (None, 1)                 17        \n",
      "                                                                 \n",
      "=================================================================\n",
      "Total params: 2988561 (11.40 MB)\n",
      "Trainable params: 2988357 (11.40 MB)\n",
      "Non-trainable params: 204 (816.00 Byte)\n",
      "_________________________________________________________________\n"
     ]
    }
   ],
   "source": [
    "IM_SIZE = 224\n",
    "\n",
    "final_model = tf.keras.Sequential([\n",
    "      InputLayer(input_shape = (IM_SIZE, IM_SIZE, 3)),\n",
    "\n",
    "      Conv2D(filters = 6, kernel_size = 3, strides=1, padding='valid',\n",
    "            activation = 'relu',),\n",
    "      BatchNormalization(),\n",
    "      MaxPool2D (pool_size = 2, strides= 2),\n",
    "      Dropout(rate = hp['HP_DROPOUT']),\n",
    "\n",
    "      Conv2D(filters = 16, kernel_size = 3, strides=1, padding='valid',\n",
    "            activation = 'relu', ),\n",
    "      BatchNormalization(),\n",
    "      MaxPool2D (pool_size = 2, strides= 2),\n",
    "\n",
    "      Flatten(),\n",
    "\n",
    "      Dense( hp['HP_NUM_UNITS_1'], activation = \"relu\", ),\n",
    "      BatchNormalization(),\n",
    "      Dropout(rate = hp['HP_DROPOUT']),\n",
    "\n",
    "      Dense(hp['HP_NUM_UNITS_2'], activation = \"relu\", ),\n",
    "      BatchNormalization(),\n",
    "\n",
    "      Dense(1, activation = \"sigmoid\"),\n",
    "      ])\n",
    "final_model.summary()"
   ]
  },
  {
   "cell_type": "code",
   "execution_count": 39,
   "metadata": {},
   "outputs": [],
   "source": [
    "final_model.compile(\n",
    "      optimizer= Adam(learning_rate = hparams[HP_LEARNING_RATE]),\n",
    "      loss='binary_crossentropy',\n",
    "      metrics=['accuracy'],\n",
    ")"
   ]
  },
  {
   "cell_type": "code",
   "execution_count": 40,
   "metadata": {},
   "outputs": [
    {
     "name": "stdout",
     "output_type": "stream",
     "text": [
      "Epoch 1/20\n"
     ]
    },
    {
     "name": "stderr",
     "output_type": "stream",
     "text": [
      "2024-04-05 18:41:52.571952: E tensorflow/core/grappler/optimizers/meta_optimizer.cc:961] layout failed: INVALID_ARGUMENT: Size of values 0 does not match size of permutation 4 @ fanin shape insequential_2/dropout_4/dropout/SelectV2-2-TransposeNHWCToNCHW-LayoutOptimizer\n"
     ]
    },
    {
     "name": "stdout",
     "output_type": "stream",
     "text": [
      "603/603 [==============================] - 27s 42ms/step - loss: 0.5344 - accuracy: 0.7312 - val_loss: 0.9106 - val_accuracy: 0.6244\n",
      "Epoch 2/20\n",
      "603/603 [==============================] - 25s 41ms/step - loss: 0.2483 - accuracy: 0.9090 - val_loss: 0.3419 - val_accuracy: 0.8851\n",
      "Epoch 3/20\n",
      "603/603 [==============================] - 25s 41ms/step - loss: 0.1924 - accuracy: 0.9305 - val_loss: 1.3361 - val_accuracy: 0.7503\n",
      "Epoch 4/20\n",
      "603/603 [==============================] - 25s 41ms/step - loss: 0.1710 - accuracy: 0.9392 - val_loss: 0.2999 - val_accuracy: 0.8982\n",
      "Epoch 5/20\n",
      "603/603 [==============================] - 25s 41ms/step - loss: 0.1502 - accuracy: 0.9463 - val_loss: 0.2819 - val_accuracy: 0.9209\n",
      "Epoch 6/20\n",
      "603/603 [==============================] - 25s 42ms/step - loss: 0.1346 - accuracy: 0.9506 - val_loss: 0.2195 - val_accuracy: 0.9314\n",
      "Epoch 7/20\n",
      "603/603 [==============================] - 25s 41ms/step - loss: 0.1136 - accuracy: 0.9585 - val_loss: 0.4925 - val_accuracy: 0.9198\n",
      "Epoch 8/20\n",
      "603/603 [==============================] - 25s 42ms/step - loss: 0.0965 - accuracy: 0.9655 - val_loss: 0.2669 - val_accuracy: 0.9035\n",
      "Epoch 9/20\n",
      "603/603 [==============================] - 25s 42ms/step - loss: 0.0792 - accuracy: 0.9707 - val_loss: 0.3332 - val_accuracy: 0.9084\n",
      "Epoch 10/20\n",
      "603/603 [==============================] - 25s 41ms/step - loss: 0.0649 - accuracy: 0.9771 - val_loss: 0.3846 - val_accuracy: 0.8590\n",
      "Epoch 11/20\n",
      "603/603 [==============================] - 25s 42ms/step - loss: 0.0646 - accuracy: 0.9767 - val_loss: 0.2469 - val_accuracy: 0.9153\n",
      "Epoch 12/20\n",
      "603/603 [==============================] - 25s 42ms/step - loss: 0.0523 - accuracy: 0.9825 - val_loss: 0.2990 - val_accuracy: 0.9136\n",
      "Epoch 13/20\n",
      "603/603 [==============================] - 25s 41ms/step - loss: 0.0636 - accuracy: 0.9756 - val_loss: 0.2286 - val_accuracy: 0.9251\n",
      "Epoch 14/20\n",
      "603/603 [==============================] - 25s 41ms/step - loss: 0.0628 - accuracy: 0.9768 - val_loss: 0.3464 - val_accuracy: 0.8851\n",
      "Epoch 15/20\n",
      "603/603 [==============================] - 25s 41ms/step - loss: 0.0348 - accuracy: 0.9880 - val_loss: 0.3008 - val_accuracy: 0.9182\n",
      "Epoch 16/20\n",
      "603/603 [==============================] - 25s 42ms/step - loss: 0.0336 - accuracy: 0.9876 - val_loss: 0.4105 - val_accuracy: 0.8744\n",
      "Epoch 17/20\n",
      "603/603 [==============================] - 25s 42ms/step - loss: 0.0331 - accuracy: 0.9881 - val_loss: 0.5639 - val_accuracy: 0.8846\n",
      "Epoch 18/20\n",
      "603/603 [==============================] - 25s 42ms/step - loss: 0.0306 - accuracy: 0.9886 - val_loss: 0.3229 - val_accuracy: 0.9227\n",
      "Epoch 19/20\n",
      "603/603 [==============================] - 25s 41ms/step - loss: 0.0240 - accuracy: 0.9917 - val_loss: 0.3882 - val_accuracy: 0.9044\n",
      "Epoch 20/20\n",
      "603/603 [==============================] - 25s 41ms/step - loss: 0.0272 - accuracy: 0.9906 - val_loss: 0.3613 - val_accuracy: 0.9274\n"
     ]
    },
    {
     "data": {
      "text/plain": [
       "<keras.src.callbacks.History at 0x7f08884ef100>"
      ]
     },
     "execution_count": 40,
     "metadata": {},
     "output_type": "execute_result"
    }
   ],
   "source": [
    "final_model.fit(train_dataset, validation_data=val_dataset ,epochs=20,)"
   ]
  },
  {
   "cell_type": "code",
   "execution_count": null,
   "metadata": {},
   "outputs": [],
   "source": []
  },
  {
   "cell_type": "code",
   "execution_count": 41,
   "metadata": {},
   "outputs": [
    {
     "name": "stderr",
     "output_type": "stream",
     "text": [
      "/home/harshal_kharkar/miniconda3/envs/one_for_all_lin/lib/python3.10/site-packages/keras/src/engine/training.py:3103: UserWarning: You are saving your model as an HDF5 file via `model.save()`. This file format is considered legacy. We recommend using instead the native Keras format, e.g. `model.save('my_model.keras')`.\n",
      "  saving_api.save_model(\n"
     ]
    }
   ],
   "source": [
    "final_model.save('model_1.h5') "
   ]
  },
  {
   "cell_type": "code",
   "execution_count": null,
   "metadata": {},
   "outputs": [],
   "source": []
  },
  {
   "cell_type": "markdown",
   "metadata": {},
   "source": [
    "# Model Evaluation And Testing"
   ]
  },
  {
   "cell_type": "code",
   "execution_count": 42,
   "metadata": {},
   "outputs": [
    {
     "name": "stdout",
     "output_type": "stream",
     "text": [
      "173/173 [==============================] - 3s 13ms/step - loss: 0.3617 - accuracy: 0.9271\n"
     ]
    },
    {
     "data": {
      "text/plain": [
       "[0.36174800992012024, 0.9270550012588501]"
      ]
     },
     "execution_count": 42,
     "metadata": {},
     "output_type": "execute_result"
    }
   ],
   "source": [
    "final_model.evaluate(val_dataset)"
   ]
  },
  {
   "cell_type": "code",
   "execution_count": null,
   "metadata": {},
   "outputs": [],
   "source": []
  }
 ],
 "metadata": {
  "kernelspec": {
   "display_name": "Python 3 (ipykernel)",
   "language": "python",
   "name": "python3"
  },
  "language_info": {
   "codemirror_mode": {
    "name": "ipython",
    "version": 3
   },
   "file_extension": ".py",
   "mimetype": "text/x-python",
   "name": "python",
   "nbconvert_exporter": "python",
   "pygments_lexer": "ipython3",
   "version": "3.10.14"
  }
 },
 "nbformat": 4,
 "nbformat_minor": 4
}
